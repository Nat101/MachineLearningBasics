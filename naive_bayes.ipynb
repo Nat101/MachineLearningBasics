{
 "cells": [
  {
   "cell_type": "code",
   "execution_count": 7,
   "metadata": {},
   "outputs": [],
   "source": [
    "# Imports\n",
    "\n",
    "import os\n",
    "import pandas as pd\n",
    "import matplotlib.pyplot as plt\n",
    "import seaborn as sns\n",
    "from sklearn.naive_bayes import GaussianNB\n",
    "from sklearn.model_selection import train_test_split\n",
    "from sklearn.metrics import confusion_matrix, accuracy_score\n",
    "\n",
    "# Make Python scripts available to Jupyter notebook\n",
    "%run helper_functions"
   ]
  },
  {
   "cell_type": "code",
   "execution_count": 8,
   "metadata": {},
   "outputs": [],
   "source": [
    "# Get data set\n",
    "\n",
    "# Set Path\n",
    "file_name = 'diabetes_data.csv'\n",
    "file_path = refactor_path(f\"{os.getcwd()}/Data_Sets/{file_name}\")\n",
    "\n",
    "# Convert Pandas dataframe\n",
    "df = pd.read_csv(file_path)\n"
   ]
  },
  {
   "cell_type": "code",
   "execution_count": 9,
   "metadata": {},
   "outputs": [
    {
     "name": "stdout",
     "output_type": "stream",
     "text": [
      "DataFrame:\n",
      "     glucose  bloodpressure  diabetes\n",
      "0         40             85         0\n",
      "1         40             92         0\n",
      "2         45             63         1\n",
      "3         45             80         0\n",
      "4         40             73         1\n",
      "..       ...            ...       ...\n",
      "990       45             87         0\n",
      "991       40             83         0\n",
      "992       40             83         0\n",
      "993       40             60         1\n",
      "994       45             82         0\n",
      "\n",
      "[995 rows x 3 columns]\n",
      "\n",
      "Summary:\n",
      "<class 'pandas.core.frame.DataFrame'>\n",
      "RangeIndex: 995 entries, 0 to 994\n",
      "Data columns (total 3 columns):\n",
      " #   Column         Non-Null Count  Dtype\n",
      "---  ------         --------------  -----\n",
      " 0   glucose        995 non-null    int64\n",
      " 1   bloodpressure  995 non-null    int64\n",
      " 2   diabetes       995 non-null    int64\n",
      "dtypes: int64(3)\n",
      "memory usage: 23.4 KB\n",
      "\n",
      "Statistics:\n"
     ]
    },
    {
     "data": {
      "text/html": [
       "<div>\n",
       "<style scoped>\n",
       "    .dataframe tbody tr th:only-of-type {\n",
       "        vertical-align: middle;\n",
       "    }\n",
       "\n",
       "    .dataframe tbody tr th {\n",
       "        vertical-align: top;\n",
       "    }\n",
       "\n",
       "    .dataframe thead th {\n",
       "        text-align: right;\n",
       "    }\n",
       "</style>\n",
       "<table border=\"1\" class=\"dataframe\">\n",
       "  <thead>\n",
       "    <tr style=\"text-align: right;\">\n",
       "      <th></th>\n",
       "      <th>glucose</th>\n",
       "      <th>bloodpressure</th>\n",
       "      <th>diabetes</th>\n",
       "    </tr>\n",
       "  </thead>\n",
       "  <tbody>\n",
       "    <tr>\n",
       "      <th>count</th>\n",
       "      <td>995.000000</td>\n",
       "      <td>995.000000</td>\n",
       "      <td>995.000000</td>\n",
       "    </tr>\n",
       "    <tr>\n",
       "      <th>mean</th>\n",
       "      <td>44.306533</td>\n",
       "      <td>79.184925</td>\n",
       "      <td>0.500503</td>\n",
       "    </tr>\n",
       "    <tr>\n",
       "      <th>std</th>\n",
       "      <td>6.707567</td>\n",
       "      <td>9.340204</td>\n",
       "      <td>0.500251</td>\n",
       "    </tr>\n",
       "    <tr>\n",
       "      <th>min</th>\n",
       "      <td>20.000000</td>\n",
       "      <td>50.000000</td>\n",
       "      <td>0.000000</td>\n",
       "    </tr>\n",
       "    <tr>\n",
       "      <th>25%</th>\n",
       "      <td>40.000000</td>\n",
       "      <td>72.000000</td>\n",
       "      <td>0.000000</td>\n",
       "    </tr>\n",
       "    <tr>\n",
       "      <th>50%</th>\n",
       "      <td>45.000000</td>\n",
       "      <td>80.000000</td>\n",
       "      <td>1.000000</td>\n",
       "    </tr>\n",
       "    <tr>\n",
       "      <th>75%</th>\n",
       "      <td>50.000000</td>\n",
       "      <td>87.000000</td>\n",
       "      <td>1.000000</td>\n",
       "    </tr>\n",
       "    <tr>\n",
       "      <th>max</th>\n",
       "      <td>70.000000</td>\n",
       "      <td>100.000000</td>\n",
       "      <td>1.000000</td>\n",
       "    </tr>\n",
       "  </tbody>\n",
       "</table>\n",
       "</div>"
      ],
      "text/plain": [
       "          glucose  bloodpressure    diabetes\n",
       "count  995.000000     995.000000  995.000000\n",
       "mean    44.306533      79.184925    0.500503\n",
       "std      6.707567       9.340204    0.500251\n",
       "min     20.000000      50.000000    0.000000\n",
       "25%     40.000000      72.000000    0.000000\n",
       "50%     45.000000      80.000000    1.000000\n",
       "75%     50.000000      87.000000    1.000000\n",
       "max     70.000000     100.000000    1.000000"
      ]
     },
     "execution_count": 9,
     "metadata": {},
     "output_type": "execute_result"
    }
   ],
   "source": [
    "# Explore data set\n",
    "\n",
    "# Display dataframe\n",
    "print(f\"DataFrame:\\n{df}\")\n",
    "\n",
    "# Display summary\n",
    "print(f\"\\nSummary:\")\n",
    "df.info()\n",
    "\n",
    "# Display statistics\n",
    "print(f\"\\nStatistics:\")\n",
    "df.describe(include='all')\n"
   ]
  },
  {
   "cell_type": "code",
   "execution_count": 11,
   "metadata": {},
   "outputs": [
    {
     "name": "stdout",
     "output_type": "stream",
     "text": [
      "y_label_classes: [0 1]\n",
      "x_feature_names: ['glucose', 'bloodpressure']\n"
     ]
    }
   ],
   "source": [
    "# Set the features and the label\n",
    "\n",
    "# Label\n",
    "y_label_name = 'diabetes'\n",
    "y_label_classes = df[y_label_name].unique()\n",
    "print(f\"y_label_classes: {y_label_classes}\")\n",
    "\n",
    "# Features\n",
    "x_feature_names = list(df.columns)\n",
    "x_feature_names.remove(y_label_name)\n",
    "print(f\"x_feature_names: {x_feature_names}\")\n",
    "\n",
    "# Convert to NumPy arrays\n",
    "np_x_feature = df[x_feature_names].to_numpy() \n",
    "np_y_label = df[y_label_name].to_numpy()"
   ]
  },
  {
   "cell_type": "code",
   "execution_count": 12,
   "metadata": {},
   "outputs": [],
   "source": [
    "# Set training variables\n",
    "test_size=0.25\n",
    "random_state=0"
   ]
  },
  {
   "cell_type": "code",
   "execution_count": 13,
   "metadata": {},
   "outputs": [
    {
     "name": "stdout",
     "output_type": "stream",
     "text": [
      "accuracy: 0.9336683417085427\n",
      "cm: [[463  34]\n",
      " [ 32 466]]\n"
     ]
    }
   ],
   "source": [
    "# Model Full Set\n",
    "\n",
    "# Train\n",
    "model = GaussianNB().fit(np_x_feature, np_y_label)\n",
    "\n",
    "# Predict\n",
    "y_predict = model.predict(np_x_feature)\n",
    "\n",
    "# Evaluate\n",
    "accuracy = accuracy_score(np_y_label, y_predict)\n",
    "cm = confusion_matrix(np_y_label, y_predict)\n",
    "print(f\"accuracy: {accuracy}\")\n",
    "print(f\"cm: {cm}\")\n",
    "\n"
   ]
  },
  {
   "cell_type": "code",
   "execution_count": 14,
   "metadata": {},
   "outputs": [
    {
     "data": {
      "image/png": "[encoded data removed]",
      "text/plain": [
       "<Figure size 600x400 with 2 Axes>"
      ]
     },
     "metadata": {},
     "output_type": "display_data"
    }
   ],
   "source": [
    "# Visualize\n",
    "fig = plt.figure(figsize=(6,4))\n",
    "fig.suptitle(f\"Naive Bayes Model\\n{file_name}\")\n",
    "ax = sns.heatmap(cm, annot=True, fmt=\".2f\", linewidth=.5)\n",
    "ax.set_xlabel('Predicted')\n",
    "ax.set_ylabel('Actual')\n",
    "ax.set_xticklabels(y_label_classes)\n",
    "ax.set_yticklabels(y_label_classes)\n",
    "plt.show()"
   ]
  },
  {
   "cell_type": "code",
   "execution_count": 15,
   "metadata": {},
   "outputs": [
    {
     "name": "stdout",
     "output_type": "stream",
     "text": [
      "accuracy_split: 0.9236947791164659\n",
      "cm_split: [[ 98   6]\n",
      " [ 13 132]]\n"
     ]
    }
   ],
   "source": [
    "# Model Split Set\n",
    "\n",
    "# Split the dataset\n",
    "x_train, x_test, y_train, y_test = train_test_split(np_x_feature, np_y_label, test_size=test_size, random_state=random_state)\n",
    "\n",
    "# Train\n",
    "model_split = GaussianNB().fit(x_train, y_train)\n",
    "\n",
    "# Predict\n",
    "y_predict_split = model_split.predict(x_test)\n",
    "\n",
    "# Evaluate\n",
    "accuracy_split = accuracy_score(y_test, y_predict_split)\n",
    "cm_split = confusion_matrix(y_test, y_predict_split)\n",
    "print(f\"accuracy_split: {accuracy_split}\")\n",
    "print(f\"cm_split: {cm_split}\")\n"
   ]
  },
  {
   "cell_type": "code",
   "execution_count": 16,
   "metadata": {},
   "outputs": [
    {
     "data": {
      "image/png": "[encoded data removed]",
      "text/plain": [
       "<Figure size 600x400 with 2 Axes>"
      ]
     },
     "metadata": {},
     "output_type": "display_data"
    }
   ],
   "source": [
    "# Visualize Split Set\n",
    "\n",
    "fig = plt.figure(figsize=(6,4))\n",
    "fig.suptitle(f\"Naive Bayes Model\\n{file_name}\")\n",
    "ax = sns.heatmap(cm_split, annot=True, fmt=\".2f\", linewidth=.5)\n",
    "ax.set_xlabel('Predicted')\n",
    "ax.set_ylabel('Actual')\n",
    "ax.set_xticklabels(y_label_classes)\n",
    "ax.set_yticklabels(y_label_classes)\n",
    "plt.show()"
   ]
  }
 ],
 "metadata": {
  "kernelspec": {
   "display_name": "MachineLearningBasics-eMHMocdi",
   "language": "python",
   "name": "python3"
  },
  "language_info": {
   "codemirror_mode": {
    "name": "ipython",
    "version": 3
   },
   "file_extension": ".py",
   "mimetype": "text/x-python",
   "name": "python",
   "nbconvert_exporter": "python",
   "pygments_lexer": "ipython3",
   "version": "3.13.1"
  }
 },
 "nbformat": 4,
 "nbformat_minor": 2
}
