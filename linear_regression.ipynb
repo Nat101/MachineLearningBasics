{
 "cells": [
  {
   "cell_type": "code",
   "execution_count": 4,
   "metadata": {},
   "outputs": [],
   "source": [
    "# Imports\n",
    "\n",
    "import os\n",
    "import pandas as pd\n",
    "import matplotlib.pyplot as plt\n",
    "from sklearn.linear_model import LinearRegression\n",
    "from sklearn.model_selection import train_test_split\n",
    "\n",
    "# Make Python scripts available to Jupyter notebook\n",
    "%run helper_functions\n"
   ]
  },
  {
   "cell_type": "code",
   "execution_count": 7,
   "metadata": {},
   "outputs": [],
   "source": [
    "# Set Path\n",
    "\n",
    "file_name = 'a_b_data.csv'\n",
    "file_path = refactor_path(f\"{os.getcwd()}/Data_Sets/{file_name}\")\n"
   ]
  },
  {
   "cell_type": "code",
   "execution_count": 8,
   "metadata": {},
   "outputs": [
    {
     "name": "stdout",
     "output_type": "stream",
     "text": [
      "DataFrame:\n",
      "     a_value    b_value\n",
      "0         74  79.775152\n",
      "1         29  23.177279\n",
      "2         22  25.609262\n",
      "3         20  17.857388\n",
      "4         39  41.849864\n",
      "..       ...        ...\n",
      "295       71  65.545888\n",
      "296       46  47.334876\n",
      "297       59  54.090637\n",
      "298       62  63.297171\n",
      "299       44  52.459467\n",
      "\n",
      "[300 rows x 2 columns]\n",
      "\n",
      "Summary:\n",
      "<class 'pandas.core.frame.DataFrame'>\n",
      "RangeIndex: 300 entries, 0 to 299\n",
      "Data columns (total 2 columns):\n",
      " #   Column   Non-Null Count  Dtype  \n",
      "---  ------   --------------  -----  \n",
      " 0   a_value  300 non-null    int64  \n",
      " 1   b_value  300 non-null    float64\n",
      "dtypes: float64(1), int64(1)\n",
      "memory usage: 4.8 KB\n",
      "\n",
      "Statistics:\n"
     ]
    },
    {
     "data": {
      "text/html": [
       "<div>\n",
       "<style scoped>\n",
       "    .dataframe tbody tr th:only-of-type {\n",
       "        vertical-align: middle;\n",
       "    }\n",
       "\n",
       "    .dataframe tbody tr th {\n",
       "        vertical-align: top;\n",
       "    }\n",
       "\n",
       "    .dataframe thead th {\n",
       "        text-align: right;\n",
       "    }\n",
       "</style>\n",
       "<table border=\"1\" class=\"dataframe\">\n",
       "  <thead>\n",
       "    <tr style=\"text-align: right;\">\n",
       "      <th></th>\n",
       "      <th>a_value</th>\n",
       "      <th>b_value</th>\n",
       "    </tr>\n",
       "  </thead>\n",
       "  <tbody>\n",
       "    <tr>\n",
       "      <th>count</th>\n",
       "      <td>300.000000</td>\n",
       "      <td>300.000000</td>\n",
       "    </tr>\n",
       "    <tr>\n",
       "      <th>mean</th>\n",
       "      <td>50.456667</td>\n",
       "      <td>51.088384</td>\n",
       "    </tr>\n",
       "    <tr>\n",
       "      <th>std</th>\n",
       "      <td>28.519455</td>\n",
       "      <td>29.061835</td>\n",
       "    </tr>\n",
       "    <tr>\n",
       "      <th>min</th>\n",
       "      <td>0.000000</td>\n",
       "      <td>-3.467884</td>\n",
       "    </tr>\n",
       "    <tr>\n",
       "      <th>25%</th>\n",
       "      <td>28.000000</td>\n",
       "      <td>25.628387</td>\n",
       "    </tr>\n",
       "    <tr>\n",
       "      <th>50%</th>\n",
       "      <td>50.500000</td>\n",
       "      <td>52.037115</td>\n",
       "    </tr>\n",
       "    <tr>\n",
       "      <th>75%</th>\n",
       "      <td>72.000000</td>\n",
       "      <td>74.303007</td>\n",
       "    </tr>\n",
       "    <tr>\n",
       "      <th>max</th>\n",
       "      <td>100.000000</td>\n",
       "      <td>125.450379</td>\n",
       "    </tr>\n",
       "  </tbody>\n",
       "</table>\n",
       "</div>"
      ],
      "text/plain": [
       "          a_value     b_value\n",
       "count  300.000000  300.000000\n",
       "mean    50.456667   51.088384\n",
       "std     28.519455   29.061835\n",
       "min      0.000000   -3.467884\n",
       "25%     28.000000   25.628387\n",
       "50%     50.500000   52.037115\n",
       "75%     72.000000   74.303007\n",
       "max    100.000000  125.450379"
      ]
     },
     "execution_count": 8,
     "metadata": {},
     "output_type": "execute_result"
    }
   ],
   "source": [
    "# Read and explore data set\n",
    "\n",
    "# Convert Pandas dataframe\n",
    "df = pd.read_csv(file_path)\n",
    "\n",
    "# Display dataframe\n",
    "print(f\"DataFrame:\\n{df}\")\n",
    "\n",
    "# Display summary\n",
    "print(f\"\\nSummary:\")\n",
    "df.info()\n",
    "\n",
    "# Display statistics\n",
    "print(f\"\\nStatistics:\")\n",
    "df.describe(include='all')"
   ]
  },
  {
   "cell_type": "code",
   "execution_count": 17,
   "metadata": {},
   "outputs": [
    {
     "name": "stdout",
     "output_type": "stream",
     "text": [
      "y_label_classes: [ 79.77515201  23.17727887  25.60926156  17.85738813  41.84986439\n",
      "   9.80523488  58.87465933  67.61793701  18.39512747   8.74674765\n",
      "   2.81141583  17.09537241  95.14907176  61.38800663  40.24701716\n",
      "  14.82248589  66.95806869  16.63507984  90.65513736  77.22982636\n",
      "  92.11906278  46.91387709  89.82634442  21.71380347  97.41206981\n",
      "  57.01631363  78.31056542  19.1315097   93.03483388  26.59112396\n",
      "  97.55155344  31.43524822  39.12724777  78.61042432  33.07112825\n",
      "  51.69967172  53.62235225  69.46306072  25.42497237  36.34644189\n",
      "  95.06140858  68.16724757  50.96155532  78.04237454   5.60766487\n",
      "  36.11334779  67.2352155   65.01324035  38.14753871  30.31141446\n",
      "  95.28503937  87.84749912  54.08170635  31.93063515  59.61247085\n",
      "  -1.04011421  47.49374765  62.60089773  70.9146434   56.14834113\n",
      "  14.05572877  68.11367147  75.59701346  59.225745    85.45504157\n",
      "  17.76197116  38.68888682  50.96343637  51.83503872  17.0761107\n",
      "  46.56141773  10.34754461  77.91032969  50.17008622  13.25690647\n",
      "  38.32274932  73.9308764   74.45114379  52.01932286  83.68820499\n",
      "  70.3698748   23.44479161  49.83051801  49.88226593  41.04525583\n",
      "  33.37834391  81.29750133 105.5918375   56.82457013  48.67252645\n",
      "  77.02150613  38.43076389  58.61466887  89.12377509  60.9105427\n",
      "  13.83959878  16.89085185  84.06676818  70.34969772  33.38474138\n",
      "  -1.63296825  88.54475895  17.44047622  75.69298554  41.97607107\n",
      "  12.59244741   0.27530726  98.13258005  87.45721555  -2.34473854\n",
      "  39.3294153   16.68715211  96.58888601  97.70342201  67.01715955\n",
      "  25.63476257  13.41310757  95.15647284   9.74416426  -3.46788379\n",
      "  62.82816355  97.27405461  95.58017185   7.46850184  49.44599591\n",
      "  46.69013968  74.4993599   21.63500655  91.59548851  26.49487961\n",
      "  67.38654703  74.25362837  12.07991648  21.32273728  29.31770045\n",
      "  26.48713683  68.94699774  59.10598995  64.37521087  60.20758349\n",
      "  70.34329706  97.1082562   75.7584178   10.80462727  12.11219941\n",
      "  63.28312382  98.03017721  63.19354354  34.8534823   -2.81991397\n",
      "  59.8313966   29.38505024  97.00148372  85.18657275  61.74063192\n",
      "  18.84798163  78.79008525  95.12400481  30.48881287  10.41468095\n",
      "  38.98317436  46.11021062  52.45103628  21.16523945  52.28620611\n",
      "  44.18863945  97.13832018  67.22008001  18.98322306  24.3884599\n",
      "  79.44769523  40.03504862  53.32005764  54.55446979  -2.7611826\n",
      "  37.80182795  57.48741435  36.06292994  40.83538167  74.68953276\n",
      "  14.86159401 101.0697879   99.43577876  91.69240746  34.12473248\n",
      "   6.07939007  59.07247174  56.43046022  30.49412933  48.35172635\n",
      "  89.73153611  72.86282528  80.97144285  81.36566374  60.07137496\n",
      "  99.87382707   8.65571417  69.39858505  19.38780134  53.11628433\n",
      "  78.39683006  25.75612514  75.07484683  92.88772282  69.45498498\n",
      "  13.12109842  48.09843134  79.3142548   68.48820749  73.2300846\n",
      "  24.68362712  41.90368917  62.22635684  45.96396877  23.52647153\n",
      "  51.80035866  51.10774273  95.79747345   9.24113898   7.64652976\n",
      "   9.28169975 103.5266162   41.41006725  42.03835773  96.11982476\n",
      "  38.05766408 125.4503788   88.80306911  15.49301141  10.42624606\n",
      "  40.00709598   5.6340309   87.36938931  89.73951993  66.61499643\n",
      "  72.9138853   57.19103506  11.21710477   0.67607675  28.15668543\n",
      "  95.3958003   52.05490703  59.70864577  36.79224762  37.08457698\n",
      "  24.18437976  67.28725332  82.870594    79.899991    36.94173178\n",
      "  19.87562242  90.71481654  61.09367762  60.11134958  64.83296316\n",
      "  81.40381769  92.40217686   2.57662538  63.80768172  38.67780759\n",
      "  16.82839701  99.78687252  44.68913433  71.00377824  51.57326718\n",
      "  19.87846479  79.50341495  34.58876491  55.7383467   68.19721905\n",
      "  55.81628509   9.3914168   56.01448111  77.9969477   51.37049953\n",
      "  11.89457829  94.79081712  25.69041546  53.52042319  18.31396758\n",
      "  21.42637785  30.41303282  67.68142149  17.0854783   60.91792707\n",
      "  14.99514319  16.74923937  41.46923883  42.84526108  59.12912974\n",
      "  91.30863673   8.67333636  39.31485292   5.3136862    5.40522052\n",
      "  65.5458879   47.33487629  54.09063686  63.29717058  52.45946688]\n",
      "x_feature_names: ['a_value']\n"
     ]
    }
   ],
   "source": [
    "# Set the label and features\n",
    "\n",
    "# Label\n",
    "y_label_name = 'b_value'\n",
    "y_label_classes = df[y_label_name].unique()\n",
    "print(f\"y_label_classes: {y_label_classes}\")\n",
    "\n",
    "# Features\n",
    "x_feature_names = list(df.columns)\n",
    "x_feature_names.remove(y_label_name)\n",
    "print(f\"x_feature_names: {x_feature_names}\")\n",
    "\n",
    "# Convert to NumPy arrays\n",
    "np_x_feature = df[x_feature_names].to_numpy() \n",
    "np_y_label = df[y_label_name].to_numpy()"
   ]
  },
  {
   "cell_type": "code",
   "execution_count": 9,
   "metadata": {},
   "outputs": [],
   "source": [
    "# Set model variables\n",
    "random_state=0\n",
    "test_size=0.25"
   ]
  },
  {
   "cell_type": "code",
   "execution_count": 12,
   "metadata": {},
   "outputs": [
    {
     "name": "stdout",
     "output_type": "stream",
     "text": [
      "b_intercept: 0.9218745006991327\n",
      "m_slope: [0.99424939]\n",
      "r2: 0.9519782927705587\n"
     ]
    }
   ],
   "source": [
    "# Model Full Set\n",
    "\n",
    "# Train\n",
    "model = LinearRegression().fit(np_x_feature, np_y_label)\n",
    "\n",
    "# Predict\n",
    "y_predict = model.predict(np_x_feature)\n",
    "\n",
    "# Evaluate\n",
    "b_intercept = model.intercept_\n",
    "m_slope = model.coef_\n",
    "r2 = model.score(np_x_feature, np_y_label)\n",
    "print(f\"b_intercept: {b_intercept}\")\n",
    "print(f\"m_slope: {m_slope}\")\n",
    "print(f\"r2: {r2}\")"
   ]
  },
  {
   "cell_type": "code",
   "execution_count": 13,
   "metadata": {},
   "outputs": [
    {
     "data": {
      "image/png": "[encoded data removed]",
      "text/plain": [
       "<Figure size 600x400 with 1 Axes>"
      ]
     },
     "metadata": {},
     "output_type": "display_data"
    }
   ],
   "source": [
    "# Visualize Full Set\n",
    "\n",
    "fig = plt.figure(figsize=(6,4))\n",
    "fig.suptitle(f\"Linear Regression Model\\n{file_name}\")\n",
    "plt.scatter(np_x_feature, np_y_label, c=\"red\", label='Data Set')\n",
    "plt.plot(np_x_feature, y_predict, c=\"green\", label='Model Fit Line')\n",
    "plt.legend()\n",
    "plt.show()"
   ]
  },
  {
   "cell_type": "code",
   "execution_count": 15,
   "metadata": {},
   "outputs": [
    {
     "name": "stdout",
     "output_type": "stream",
     "text": [
      "b_intercept_split: 0.8278064969320695\n",
      "m_slope_split: [0.99873334]\n",
      "r2_split: 0.9479131777760819\n"
     ]
    }
   ],
   "source": [
    "# Model Split Set\n",
    "\n",
    "# Split the dataset\n",
    "x_train, x_test, y_train, y_test = train_test_split(np_x_feature, np_y_label, test_size=test_size, random_state=random_state)\n",
    "\n",
    "# Train\n",
    "model_split = LinearRegression().fit(x_train,y_train)\n",
    "\n",
    "# Predict\n",
    "y_predict_split = model.predict(x_test)\n",
    "\n",
    "# Evaluate\n",
    "b_intercept_split = model_split.intercept_\n",
    "m_slope_split = model_split.coef_\n",
    "r2_split = model_split.score(x_test,y_test)\n",
    "print(f\"b_intercept_split: {b_intercept_split}\")\n",
    "print(f\"m_slope_split: {m_slope_split}\")\n",
    "print(f\"r2_split: {r2_split}\")\n"
   ]
  },
  {
   "cell_type": "code",
   "execution_count": 16,
   "metadata": {},
   "outputs": [
    {
     "data": {
      "image/png": "[encoded data removed]",
      "text/plain": [
       "<Figure size 600x400 with 1 Axes>"
      ]
     },
     "metadata": {},
     "output_type": "display_data"
    }
   ],
   "source": [
    "# Visualize Split Set\n",
    "\n",
    "fig = plt.figure(figsize=(6,4))\n",
    "fig.suptitle(f\"Linear Regression Model\\n{file_name}\")\n",
    "plt.scatter(x_test, y_test, c=\"red\", label='Data Set')\n",
    "plt.plot(x_test, y_predict_split, c=\"green\", label='Model Fit Line')\n",
    "plt.legend()\n",
    "plt.show()"
   ]
  }
 ],
 "metadata": {
  "kernelspec": {
   "display_name": "MachineLearningBasics-eMHMocdi",
   "language": "python",
   "name": "python3"
  },
  "language_info": {
   "codemirror_mode": {
    "name": "ipython",
    "version": 3
   },
   "file_extension": ".py",
   "mimetype": "text/x-python",
   "name": "python",
   "nbconvert_exporter": "python",
   "pygments_lexer": "ipython3",
   "version": "3.13.1"
  }
 },
 "nbformat": 4,
 "nbformat_minor": 2
}
